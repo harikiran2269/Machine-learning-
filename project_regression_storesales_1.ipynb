{
 "cells": [
  {
   "cell_type": "code",
   "execution_count": 1,
   "id": "a30ae915",
   "metadata": {},
   "outputs": [],
   "source": [
    "import pandas as pd\n",
    "import matplotlib.pyplot as plt\n",
    "import seaborn as sns\n",
    "from sklearn.linear_model import LinearRegression\n",
    "from sklearn.metrics import mean_squared_error\n",
    "import warnings\n",
    "warnings.filterwarnings(\"ignore\")\n",
    "import numpy as np"
   ]
  },
  {
   "cell_type": "code",
   "execution_count": 2,
   "id": "14bca501",
   "metadata": {},
   "outputs": [],
   "source": [
    "df=pd.read_csv(\"DS3_C6_S1_Regression_StoreSales_Data_Project.csv\")"
   ]
  },
  {
   "cell_type": "code",
   "execution_count": 3,
   "id": "4672c2c1",
   "metadata": {},
   "outputs": [
    {
     "data": {
      "text/plain": [
       "Item_Identifier                 0\n",
       "Item_Weight                     0\n",
       "Item_Fat_Content                0\n",
       "Item_Visibility                 0\n",
       "Item_Type                       0\n",
       "Item_MRP                        0\n",
       "Outlet_Identifier               0\n",
       "Outlet_Establishment_Year       0\n",
       "Outlet_Size                     0\n",
       "Outlet_Location_Type            0\n",
       "Outlet_Type                     0\n",
       "Item_Outlet_Sales            5681\n",
       "dtype: int64"
      ]
     },
     "execution_count": 3,
     "metadata": {},
     "output_type": "execute_result"
    }
   ],
   "source": [
    "df.isnull().sum()"
   ]
  },
  {
   "cell_type": "code",
   "execution_count": 4,
   "id": "e4763306",
   "metadata": {},
   "outputs": [],
   "source": [
    "df2=df.dropna(axis=0)"
   ]
  },
  {
   "cell_type": "code",
   "execution_count": 5,
   "id": "028acf33",
   "metadata": {},
   "outputs": [
    {
     "data": {
      "text/plain": [
       "Item_Identifier              0\n",
       "Item_Weight                  0\n",
       "Item_Fat_Content             0\n",
       "Item_Visibility              0\n",
       "Item_Type                    0\n",
       "Item_MRP                     0\n",
       "Outlet_Identifier            0\n",
       "Outlet_Establishment_Year    0\n",
       "Outlet_Size                  0\n",
       "Outlet_Location_Type         0\n",
       "Outlet_Type                  0\n",
       "Item_Outlet_Sales            0\n",
       "dtype: int64"
      ]
     },
     "execution_count": 5,
     "metadata": {},
     "output_type": "execute_result"
    }
   ],
   "source": [
    "df2.isnull().sum()"
   ]
  },
  {
   "cell_type": "code",
   "execution_count": 6,
   "id": "5d0950d4",
   "metadata": {},
   "outputs": [
    {
     "data": {
      "text/plain": [
       "Item_Identifier               object\n",
       "Item_Weight                  float64\n",
       "Item_Fat_Content              object\n",
       "Item_Visibility              float64\n",
       "Item_Type                     object\n",
       "Item_MRP                     float64\n",
       "Outlet_Identifier             object\n",
       "Outlet_Establishment_Year      int64\n",
       "Outlet_Size                   object\n",
       "Outlet_Location_Type          object\n",
       "Outlet_Type                   object\n",
       "Item_Outlet_Sales            float64\n",
       "dtype: object"
      ]
     },
     "execution_count": 6,
     "metadata": {},
     "output_type": "execute_result"
    }
   ],
   "source": [
    "df2.dtypes"
   ]
  },
  {
   "cell_type": "code",
   "execution_count": 7,
   "id": "e0a36b19",
   "metadata": {},
   "outputs": [],
   "source": [
    "obj=[]\n",
    "for i in df2.select_dtypes(\"object\"):\n",
    "    obj.append(i)"
   ]
  },
  {
   "cell_type": "code",
   "execution_count": 8,
   "id": "fa1eef96",
   "metadata": {},
   "outputs": [],
   "source": [
    "for i in obj:\n",
    "    df2[i]=df2[i].astype(\"category\")\n",
    "    "
   ]
  },
  {
   "cell_type": "code",
   "execution_count": 9,
   "id": "fb4d5122",
   "metadata": {},
   "outputs": [
    {
     "data": {
      "text/plain": [
       "Item_Identifier              category\n",
       "Item_Weight                   float64\n",
       "Item_Fat_Content             category\n",
       "Item_Visibility               float64\n",
       "Item_Type                    category\n",
       "Item_MRP                      float64\n",
       "Outlet_Identifier            category\n",
       "Outlet_Establishment_Year       int64\n",
       "Outlet_Size                  category\n",
       "Outlet_Location_Type         category\n",
       "Outlet_Type                  category\n",
       "Item_Outlet_Sales             float64\n",
       "dtype: object"
      ]
     },
     "execution_count": 9,
     "metadata": {},
     "output_type": "execute_result"
    }
   ],
   "source": [
    "df2.dtypes"
   ]
  },
  {
   "cell_type": "code",
   "execution_count": 10,
   "id": "a6bbf3a9",
   "metadata": {},
   "outputs": [],
   "source": [
    "cat=[]\n",
    "for i in df2.select_dtypes(\"category\"):\n",
    "    cat.append(i)\n",
    "for i in cat:\n",
    "    df2[i]=df2[i].cat.codes\n",
    "    "
   ]
  },
  {
   "cell_type": "code",
   "execution_count": 11,
   "id": "10457aa7",
   "metadata": {},
   "outputs": [
    {
     "data": {
      "text/plain": [
       "Item_Identifier                int16\n",
       "Item_Weight                  float64\n",
       "Item_Fat_Content                int8\n",
       "Item_Visibility              float64\n",
       "Item_Type                       int8\n",
       "Item_MRP                     float64\n",
       "Outlet_Identifier               int8\n",
       "Outlet_Establishment_Year      int64\n",
       "Outlet_Size                     int8\n",
       "Outlet_Location_Type            int8\n",
       "Outlet_Type                     int8\n",
       "Item_Outlet_Sales            float64\n",
       "dtype: object"
      ]
     },
     "execution_count": 11,
     "metadata": {},
     "output_type": "execute_result"
    }
   ],
   "source": [
    "df2.dtypes"
   ]
  },
  {
   "cell_type": "code",
   "execution_count": 12,
   "id": "a03de0f7",
   "metadata": {},
   "outputs": [],
   "source": [
    "from sklearn.preprocessing import MinMaxScaler"
   ]
  },
  {
   "cell_type": "code",
   "execution_count": 13,
   "id": "c0bcbfc1",
   "metadata": {},
   "outputs": [
    {
     "data": {
      "text/html": [
       "<div>\n",
       "<style scoped>\n",
       "    .dataframe tbody tr th:only-of-type {\n",
       "        vertical-align: middle;\n",
       "    }\n",
       "\n",
       "    .dataframe tbody tr th {\n",
       "        vertical-align: top;\n",
       "    }\n",
       "\n",
       "    .dataframe thead th {\n",
       "        text-align: right;\n",
       "    }\n",
       "</style>\n",
       "<table border=\"1\" class=\"dataframe\">\n",
       "  <thead>\n",
       "    <tr style=\"text-align: right;\">\n",
       "      <th></th>\n",
       "      <th>Item_Weight</th>\n",
       "      <th>Item_Visibility</th>\n",
       "      <th>Item_MRP</th>\n",
       "      <th>Outlet_Establishment_Year</th>\n",
       "      <th>Item_Outlet_Sales</th>\n",
       "    </tr>\n",
       "  </thead>\n",
       "  <tbody>\n",
       "    <tr>\n",
       "      <th>0</th>\n",
       "      <td>0.282525</td>\n",
       "      <td>0.038399</td>\n",
       "      <td>0.927507</td>\n",
       "      <td>0.583333</td>\n",
       "      <td>0.283587</td>\n",
       "    </tr>\n",
       "    <tr>\n",
       "      <th>1</th>\n",
       "      <td>0.081274</td>\n",
       "      <td>0.048346</td>\n",
       "      <td>0.072068</td>\n",
       "      <td>1.000000</td>\n",
       "      <td>0.031419</td>\n",
       "    </tr>\n",
       "    <tr>\n",
       "      <th>2</th>\n",
       "      <td>0.770765</td>\n",
       "      <td>0.040593</td>\n",
       "      <td>0.468288</td>\n",
       "      <td>0.583333</td>\n",
       "      <td>0.158115</td>\n",
       "    </tr>\n",
       "    <tr>\n",
       "      <th>3</th>\n",
       "      <td>0.871986</td>\n",
       "      <td>0.218055</td>\n",
       "      <td>0.640093</td>\n",
       "      <td>0.541667</td>\n",
       "      <td>0.053555</td>\n",
       "    </tr>\n",
       "    <tr>\n",
       "      <th>4</th>\n",
       "      <td>0.260494</td>\n",
       "      <td>0.186950</td>\n",
       "      <td>0.095805</td>\n",
       "      <td>0.083333</td>\n",
       "      <td>0.073651</td>\n",
       "    </tr>\n",
       "    <tr>\n",
       "      <th>...</th>\n",
       "      <td>...</td>\n",
       "      <td>...</td>\n",
       "      <td>...</td>\n",
       "      <td>...</td>\n",
       "      <td>...</td>\n",
       "    </tr>\n",
       "    <tr>\n",
       "      <th>8518</th>\n",
       "      <td>0.137541</td>\n",
       "      <td>0.163812</td>\n",
       "      <td>0.777729</td>\n",
       "      <td>0.083333</td>\n",
       "      <td>0.210293</td>\n",
       "    </tr>\n",
       "    <tr>\n",
       "      <th>8519</th>\n",
       "      <td>0.227746</td>\n",
       "      <td>0.133638</td>\n",
       "      <td>0.326263</td>\n",
       "      <td>0.708333</td>\n",
       "      <td>0.039529</td>\n",
       "    </tr>\n",
       "    <tr>\n",
       "      <th>8520</th>\n",
       "      <td>0.359929</td>\n",
       "      <td>0.097321</td>\n",
       "      <td>0.228492</td>\n",
       "      <td>0.791667</td>\n",
       "      <td>0.088850</td>\n",
       "    </tr>\n",
       "    <tr>\n",
       "      <th>8521</th>\n",
       "      <td>0.158083</td>\n",
       "      <td>0.436080</td>\n",
       "      <td>0.304939</td>\n",
       "      <td>1.000000</td>\n",
       "      <td>0.138835</td>\n",
       "    </tr>\n",
       "    <tr>\n",
       "      <th>8522</th>\n",
       "      <td>0.610003</td>\n",
       "      <td>0.127160</td>\n",
       "      <td>0.187510</td>\n",
       "      <td>0.500000</td>\n",
       "      <td>0.056105</td>\n",
       "    </tr>\n",
       "  </tbody>\n",
       "</table>\n",
       "<p>8523 rows × 5 columns</p>\n",
       "</div>"
      ],
      "text/plain": [
       "      Item_Weight  Item_Visibility  Item_MRP  Outlet_Establishment_Year  \\\n",
       "0        0.282525         0.038399  0.927507                   0.583333   \n",
       "1        0.081274         0.048346  0.072068                   1.000000   \n",
       "2        0.770765         0.040593  0.468288                   0.583333   \n",
       "3        0.871986         0.218055  0.640093                   0.541667   \n",
       "4        0.260494         0.186950  0.095805                   0.083333   \n",
       "...           ...              ...       ...                        ...   \n",
       "8518     0.137541         0.163812  0.777729                   0.083333   \n",
       "8519     0.227746         0.133638  0.326263                   0.708333   \n",
       "8520     0.359929         0.097321  0.228492                   0.791667   \n",
       "8521     0.158083         0.436080  0.304939                   1.000000   \n",
       "8522     0.610003         0.127160  0.187510                   0.500000   \n",
       "\n",
       "      Item_Outlet_Sales  \n",
       "0              0.283587  \n",
       "1              0.031419  \n",
       "2              0.158115  \n",
       "3              0.053555  \n",
       "4              0.073651  \n",
       "...                 ...  \n",
       "8518           0.210293  \n",
       "8519           0.039529  \n",
       "8520           0.088850  \n",
       "8521           0.138835  \n",
       "8522           0.056105  \n",
       "\n",
       "[8523 rows x 5 columns]"
      ]
     },
     "execution_count": 13,
     "metadata": {},
     "output_type": "execute_result"
    }
   ],
   "source": [
    "numerics = ['int64', 'float64']\n",
    "df3 = df2.select_dtypes(include=numerics)\n",
    "df_scaled=pd.DataFrame(MinMaxScaler().fit_transform(df3.to_numpy()),columns=df3.columns)\n",
    "df_scaled"
   ]
  },
  {
   "cell_type": "markdown",
   "id": "68f2b0a2",
   "metadata": {},
   "source": [
    " # EDA"
   ]
  },
  {
   "cell_type": "code",
   "execution_count": 14,
   "id": "b9e536e8",
   "metadata": {},
   "outputs": [],
   "source": [
    "df_copy=df"
   ]
  },
  {
   "cell_type": "code",
   "execution_count": 15,
   "id": "52afdd0f",
   "metadata": {},
   "outputs": [],
   "source": [
    "df_copy.dropna(inplace=True)"
   ]
  },
  {
   "cell_type": "code",
   "execution_count": 16,
   "id": "ed2a2594",
   "metadata": {},
   "outputs": [
    {
     "data": {
      "text/html": [
       "<div>\n",
       "<style scoped>\n",
       "    .dataframe tbody tr th:only-of-type {\n",
       "        vertical-align: middle;\n",
       "    }\n",
       "\n",
       "    .dataframe tbody tr th {\n",
       "        vertical-align: top;\n",
       "    }\n",
       "\n",
       "    .dataframe thead th {\n",
       "        text-align: right;\n",
       "    }\n",
       "</style>\n",
       "<table border=\"1\" class=\"dataframe\">\n",
       "  <thead>\n",
       "    <tr style=\"text-align: right;\">\n",
       "      <th></th>\n",
       "      <th>Item_Identifier</th>\n",
       "      <th>Item_Weight</th>\n",
       "      <th>Item_Fat_Content</th>\n",
       "      <th>Item_Visibility</th>\n",
       "      <th>Item_Type</th>\n",
       "      <th>Item_MRP</th>\n",
       "      <th>Outlet_Identifier</th>\n",
       "      <th>Outlet_Establishment_Year</th>\n",
       "      <th>Outlet_Size</th>\n",
       "      <th>Outlet_Location_Type</th>\n",
       "      <th>Outlet_Type</th>\n",
       "      <th>Item_Outlet_Sales</th>\n",
       "    </tr>\n",
       "  </thead>\n",
       "  <tbody>\n",
       "    <tr>\n",
       "      <th>0</th>\n",
       "      <td>FDA15</td>\n",
       "      <td>9.30</td>\n",
       "      <td>Low Fat</td>\n",
       "      <td>0.016047</td>\n",
       "      <td>Dairy</td>\n",
       "      <td>249.8092</td>\n",
       "      <td>OUT049</td>\n",
       "      <td>1999</td>\n",
       "      <td>Medium</td>\n",
       "      <td>Tier 1</td>\n",
       "      <td>Supermarket Type1</td>\n",
       "      <td>3735.1380</td>\n",
       "    </tr>\n",
       "    <tr>\n",
       "      <th>1</th>\n",
       "      <td>DRC01</td>\n",
       "      <td>5.92</td>\n",
       "      <td>Regular</td>\n",
       "      <td>0.019278</td>\n",
       "      <td>Soft Drinks</td>\n",
       "      <td>48.2692</td>\n",
       "      <td>OUT018</td>\n",
       "      <td>2009</td>\n",
       "      <td>Medium</td>\n",
       "      <td>Tier 3</td>\n",
       "      <td>Supermarket Type2</td>\n",
       "      <td>443.4228</td>\n",
       "    </tr>\n",
       "    <tr>\n",
       "      <th>2</th>\n",
       "      <td>FDN15</td>\n",
       "      <td>17.50</td>\n",
       "      <td>Low Fat</td>\n",
       "      <td>0.016760</td>\n",
       "      <td>Meat</td>\n",
       "      <td>141.6180</td>\n",
       "      <td>OUT049</td>\n",
       "      <td>1999</td>\n",
       "      <td>Medium</td>\n",
       "      <td>Tier 1</td>\n",
       "      <td>Supermarket Type1</td>\n",
       "      <td>2097.2700</td>\n",
       "    </tr>\n",
       "    <tr>\n",
       "      <th>3</th>\n",
       "      <td>FDX07</td>\n",
       "      <td>19.20</td>\n",
       "      <td>Regular</td>\n",
       "      <td>0.074402</td>\n",
       "      <td>Fruits and Vegetables</td>\n",
       "      <td>182.0950</td>\n",
       "      <td>OUT010</td>\n",
       "      <td>1998</td>\n",
       "      <td>Medium</td>\n",
       "      <td>Tier 3</td>\n",
       "      <td>Grocery Store</td>\n",
       "      <td>732.3800</td>\n",
       "    </tr>\n",
       "    <tr>\n",
       "      <th>4</th>\n",
       "      <td>NCD19</td>\n",
       "      <td>8.93</td>\n",
       "      <td>Low Fat</td>\n",
       "      <td>0.064299</td>\n",
       "      <td>Household</td>\n",
       "      <td>53.8614</td>\n",
       "      <td>OUT013</td>\n",
       "      <td>1987</td>\n",
       "      <td>High</td>\n",
       "      <td>Tier 3</td>\n",
       "      <td>Supermarket Type1</td>\n",
       "      <td>994.7052</td>\n",
       "    </tr>\n",
       "  </tbody>\n",
       "</table>\n",
       "</div>"
      ],
      "text/plain": [
       "  Item_Identifier  Item_Weight Item_Fat_Content  Item_Visibility  \\\n",
       "0           FDA15         9.30          Low Fat         0.016047   \n",
       "1           DRC01         5.92          Regular         0.019278   \n",
       "2           FDN15        17.50          Low Fat         0.016760   \n",
       "3           FDX07        19.20          Regular         0.074402   \n",
       "4           NCD19         8.93          Low Fat         0.064299   \n",
       "\n",
       "               Item_Type  Item_MRP Outlet_Identifier  \\\n",
       "0                  Dairy  249.8092            OUT049   \n",
       "1            Soft Drinks   48.2692            OUT018   \n",
       "2                   Meat  141.6180            OUT049   \n",
       "3  Fruits and Vegetables  182.0950            OUT010   \n",
       "4              Household   53.8614            OUT013   \n",
       "\n",
       "   Outlet_Establishment_Year Outlet_Size Outlet_Location_Type  \\\n",
       "0                       1999      Medium               Tier 1   \n",
       "1                       2009      Medium               Tier 3   \n",
       "2                       1999      Medium               Tier 1   \n",
       "3                       1998      Medium               Tier 3   \n",
       "4                       1987        High               Tier 3   \n",
       "\n",
       "         Outlet_Type  Item_Outlet_Sales  \n",
       "0  Supermarket Type1          3735.1380  \n",
       "1  Supermarket Type2           443.4228  \n",
       "2  Supermarket Type1          2097.2700  \n",
       "3      Grocery Store           732.3800  \n",
       "4  Supermarket Type1           994.7052  "
      ]
     },
     "execution_count": 16,
     "metadata": {},
     "output_type": "execute_result"
    }
   ],
   "source": [
    "df_copy.head()"
   ]
  },
  {
   "cell_type": "code",
   "execution_count": 17,
   "id": "fc73bd92",
   "metadata": {},
   "outputs": [
    {
     "data": {
      "image/png": "[encoded data removed]",
      "text/plain": [
       "<Figure size 432x288 with 1 Axes>"
      ]
     },
     "metadata": {},
     "output_type": "display_data"
    }
   ],
   "source": [
    "df_copy.groupby(df_copy['Outlet_Size']).size().plot(kind='pie',autopct='%0.1f%%')\n",
    "plt.show()"
   ]
  },
  {
   "cell_type": "markdown",
   "id": "08c2ddfb",
   "metadata": {},
   "source": [
    "## Small outlet are more then other outlet sizes in the data "
   ]
  },
  {
   "cell_type": "code",
   "execution_count": 18,
   "id": "dc91ab3b",
   "metadata": {},
   "outputs": [
    {
     "data": {
      "image/png": "[encoded data removed]",
      "text/plain": [
       "<Figure size 432x288 with 1 Axes>"
      ]
     },
     "metadata": {},
     "output_type": "display_data"
    }
   ],
   "source": [
    "df_copy.groupby(df_copy[\"Outlet_Type\"]).size().plot(kind='pie',autopct='%0.1f%%')\n",
    "plt.show()"
   ]
  },
  {
   "cell_type": "markdown",
   "id": "10851b5d",
   "metadata": {},
   "source": [
    "# supermarket Type 1 is having high number of sales "
   ]
  },
  {
   "cell_type": "code",
   "execution_count": 19,
   "id": "b544f5e6",
   "metadata": {},
   "outputs": [
    {
     "data": {
      "image/png": "[encoded data removed]",
      "text/plain": [
       "<Figure size 432x288 with 1 Axes>"
      ]
     },
     "metadata": {
      "needs_background": "light"
     },
     "output_type": "display_data"
    }
   ],
   "source": [
    "df_copy.groupby(df_copy[\"Outlet_Location_Type\"]).size().plot(kind='barh')\n",
    "plt.show()"
   ]
  },
  {
   "cell_type": "markdown",
   "id": "fa71d673",
   "metadata": {},
   "source": [
    "# Tier 3 cities store are making high no. sales"
   ]
  },
  {
   "cell_type": "code",
   "execution_count": 20,
   "id": "607dfaf1",
   "metadata": {},
   "outputs": [
    {
     "data": {
      "text/plain": [
       "<AxesSubplot:xlabel='Item_MRP', ylabel='Density'>"
      ]
     },
     "execution_count": 20,
     "metadata": {},
     "output_type": "execute_result"
    },
    {
     "data": {
      "image/png": "[encoded data removed]",
      "text/plain": [
       "<Figure size 432x288 with 1 Axes>"
      ]
     },
     "metadata": {
      "needs_background": "light"
     },
     "output_type": "display_data"
    }
   ],
   "source": [
    "sns.distplot(df_copy[\"Item_MRP\"])"
   ]
  },
  {
   "cell_type": "markdown",
   "id": "c223785d",
   "metadata": {},
   "source": [
    "# Items are in the range of 40 to 250 rs more sales aree from 100 rs range"
   ]
  },
  {
   "cell_type": "code",
   "execution_count": 21,
   "id": "0d26765e",
   "metadata": {},
   "outputs": [
    {
     "data": {
      "image/png": "[encoded data removed]",
      "text/plain": [
       "<Figure size 432x288 with 1 Axes>"
      ]
     },
     "metadata": {},
     "output_type": "display_data"
    }
   ],
   "source": [
    "df_copy.groupby(df_copy['Item_Fat_Content']).size().plot(kind='pie',autopct='%0.1f%%')\n",
    "plt.show()"
   ]
  },
  {
   "cell_type": "markdown",
   "id": "1159f381",
   "metadata": {},
   "source": [
    "# low fat items are most sold which is 64.7 % martket cap"
   ]
  },
  {
   "cell_type": "code",
   "execution_count": 22,
   "id": "86914ae0",
   "metadata": {},
   "outputs": [
    {
     "data": {
      "image/png": "[encoded data removed]",
      "text/plain": [
       "<Figure size 432x288 with 1 Axes>"
      ]
     },
     "metadata": {
      "needs_background": "light"
     },
     "output_type": "display_data"
    }
   ],
   "source": [
    "df_copy.sort_values(\"Item_Type\",inplace=True)\n",
    "df_copy.groupby(df_copy[\"Item_Type\"]).size().plot(kind='barh',color=\"g\")\n",
    "plt.show()"
   ]
  },
  {
   "cell_type": "markdown",
   "id": "2750ef23",
   "metadata": {},
   "source": [
    " # more sales from fruits and Vegetables item_type"
   ]
  },
  {
   "cell_type": "code",
   "execution_count": 23,
   "id": "8b87199b",
   "metadata": {},
   "outputs": [
    {
     "data": {
      "text/plain": [
       "<AxesSubplot:xlabel='Item_Weight', ylabel='Density'>"
      ]
     },
     "execution_count": 23,
     "metadata": {},
     "output_type": "execute_result"
    },
    {
     "data": {
      "image/png": "[encoded data removed]",
      "text/plain": [
       "<Figure size 432x288 with 1 Axes>"
      ]
     },
     "metadata": {
      "needs_background": "light"
     },
     "output_type": "display_data"
    }
   ],
   "source": [
    "sns.distplot(df_copy[\"Item_Weight\"])"
   ]
  },
  {
   "cell_type": "markdown",
   "id": "731358cd",
   "metadata": {},
   "source": [
    " # item_weights are in the range of 4 to 22 "
   ]
  },
  {
   "cell_type": "code",
   "execution_count": 24,
   "id": "aa715256",
   "metadata": {},
   "outputs": [
    {
     "data": {
      "text/plain": [
       "<AxesSubplot:xlabel='Outlet_Type', ylabel='Item_Outlet_Sales'>"
      ]
     },
     "execution_count": 24,
     "metadata": {},
     "output_type": "execute_result"
    },
    {
     "data": {
      "image/png": "[encoded data removed]",
      "text/plain": [
       "<Figure size 576x720 with 1 Axes>"
      ]
     },
     "metadata": {
      "needs_background": "light"
     },
     "output_type": "display_data"
    }
   ],
   "source": [
    "plt.figure(figsize=(8,10))\n",
    "sns.barplot(y=df_copy['Item_Outlet_Sales'],x=df_copy[\"Outlet_Type\"])"
   ]
  },
  {
   "cell_type": "markdown",
   "id": "e6334661",
   "metadata": {},
   "source": [
    "# high  sales from Supermarket type3"
   ]
  },
  {
   "cell_type": "code",
   "execution_count": 25,
   "id": "c192b366",
   "metadata": {},
   "outputs": [
    {
     "data": {
      "text/plain": [
       "<AxesSubplot:xlabel='Item_Type', ylabel='Item_Outlet_Sales'>"
      ]
     },
     "execution_count": 25,
     "metadata": {},
     "output_type": "execute_result"
    },
    {
     "data": {
      "image/png": "[encoded data removed]",
      "text/plain": [
       "<Figure size 1440x720 with 1 Axes>"
      ]
     },
     "metadata": {
      "needs_background": "light"
     },
     "output_type": "display_data"
    }
   ],
   "source": [
    "plt.figure(figsize=(20,10))\n",
    "sns.barplot(y=df_copy['Item_Outlet_Sales'],x=df_copy[\"Item_Type\"])"
   ]
  },
  {
   "cell_type": "markdown",
   "id": "9ee99f08",
   "metadata": {},
   "source": [
    " # more revenue from seafoods and starcgy Foods"
   ]
  },
  {
   "cell_type": "markdown",
   "id": "8ec52e44",
   "metadata": {},
   "source": [
    "data mining "
   ]
  },
  {
   "cell_type": "code",
   "execution_count": 26,
   "id": "95416fae",
   "metadata": {},
   "outputs": [],
   "source": [
    "corr=df_scaled.corr()"
   ]
  },
  {
   "cell_type": "code",
   "execution_count": 27,
   "id": "53a0e600",
   "metadata": {},
   "outputs": [
    {
     "data": {
      "text/html": [
       "<style type=\"text/css\">\n",
       "#T_69cad_row0_col0, #T_69cad_row1_col1, #T_69cad_row2_col2, #T_69cad_row3_col3, #T_69cad_row4_col4 {\n",
       "  background-color: #b40426;\n",
       "  color: #f1f1f1;\n",
       "}\n",
       "#T_69cad_row0_col1 {\n",
       "  background-color: #5a78e4;\n",
       "  color: #f1f1f1;\n",
       "}\n",
       "#T_69cad_row0_col2 {\n",
       "  background-color: #445acc;\n",
       "  color: #f1f1f1;\n",
       "}\n",
       "#T_69cad_row0_col3 {\n",
       "  background-color: #4e68d8;\n",
       "  color: #f1f1f1;\n",
       "}\n",
       "#T_69cad_row0_col4 {\n",
       "  background-color: #6384eb;\n",
       "  color: #f1f1f1;\n",
       "}\n",
       "#T_69cad_row1_col0, #T_69cad_row1_col2, #T_69cad_row1_col3, #T_69cad_row1_col4, #T_69cad_row4_col1 {\n",
       "  background-color: #3b4cc0;\n",
       "  color: #f1f1f1;\n",
       "}\n",
       "#T_69cad_row2_col0 {\n",
       "  background-color: #485fd1;\n",
       "  color: #f1f1f1;\n",
       "}\n",
       "#T_69cad_row2_col1 {\n",
       "  background-color: #5e7de7;\n",
       "  color: #f1f1f1;\n",
       "}\n",
       "#T_69cad_row2_col3 {\n",
       "  background-color: #536edd;\n",
       "  color: #f1f1f1;\n",
       "}\n",
       "#T_69cad_row2_col4 {\n",
       "  background-color: #f4c6af;\n",
       "  color: #000000;\n",
       "}\n",
       "#T_69cad_row3_col0 {\n",
       "  background-color: #3c4ec2;\n",
       "  color: #f1f1f1;\n",
       "}\n",
       "#T_69cad_row3_col1 {\n",
       "  background-color: #4961d2;\n",
       "  color: #f1f1f1;\n",
       "}\n",
       "#T_69cad_row3_col2 {\n",
       "  background-color: #3d50c3;\n",
       "  color: #f1f1f1;\n",
       "}\n",
       "#T_69cad_row3_col4 {\n",
       "  background-color: #516ddb;\n",
       "  color: #f1f1f1;\n",
       "}\n",
       "#T_69cad_row4_col0, #T_69cad_row4_col3 {\n",
       "  background-color: #4358cb;\n",
       "  color: #f1f1f1;\n",
       "}\n",
       "#T_69cad_row4_col2 {\n",
       "  background-color: #edd2c3;\n",
       "  color: #000000;\n",
       "}\n",
       "</style>\n",
       "<table id=\"T_69cad\">\n",
       "  <thead>\n",
       "    <tr>\n",
       "      <th class=\"blank level0\" >&nbsp;</th>\n",
       "      <th id=\"T_69cad_level0_col0\" class=\"col_heading level0 col0\" >Item_Weight</th>\n",
       "      <th id=\"T_69cad_level0_col1\" class=\"col_heading level0 col1\" >Item_Visibility</th>\n",
       "      <th id=\"T_69cad_level0_col2\" class=\"col_heading level0 col2\" >Item_MRP</th>\n",
       "      <th id=\"T_69cad_level0_col3\" class=\"col_heading level0 col3\" >Outlet_Establishment_Year</th>\n",
       "      <th id=\"T_69cad_level0_col4\" class=\"col_heading level0 col4\" >Item_Outlet_Sales</th>\n",
       "    </tr>\n",
       "  </thead>\n",
       "  <tbody>\n",
       "    <tr>\n",
       "      <th id=\"T_69cad_level0_row0\" class=\"row_heading level0 row0\" >Item_Weight</th>\n",
       "      <td id=\"T_69cad_row0_col0\" class=\"data row0 col0\" >1.000000</td>\n",
       "      <td id=\"T_69cad_row0_col1\" class=\"data row0 col1\" >-0.018409</td>\n",
       "      <td id=\"T_69cad_row0_col2\" class=\"data row0 col2\" >0.026172</td>\n",
       "      <td id=\"T_69cad_row0_col3\" class=\"data row0 col3\" >-0.012823</td>\n",
       "      <td id=\"T_69cad_row0_col4\" class=\"data row0 col4\" >0.013261</td>\n",
       "    </tr>\n",
       "    <tr>\n",
       "      <th id=\"T_69cad_level0_row1\" class=\"row_heading level0 row1\" >Item_Visibility</th>\n",
       "      <td id=\"T_69cad_row1_col0\" class=\"data row1 col0\" >-0.018409</td>\n",
       "      <td id=\"T_69cad_row1_col1\" class=\"data row1 col1\" >1.000000</td>\n",
       "      <td id=\"T_69cad_row1_col2\" class=\"data row1 col2\" >-0.005861</td>\n",
       "      <td id=\"T_69cad_row1_col3\" class=\"data row1 col3\" >-0.080598</td>\n",
       "      <td id=\"T_69cad_row1_col4\" class=\"data row1 col4\" >-0.135247</td>\n",
       "    </tr>\n",
       "    <tr>\n",
       "      <th id=\"T_69cad_level0_row2\" class=\"row_heading level0 row2\" >Item_MRP</th>\n",
       "      <td id=\"T_69cad_row2_col0\" class=\"data row2 col0\" >0.026172</td>\n",
       "      <td id=\"T_69cad_row2_col1\" class=\"data row2 col1\" >-0.005861</td>\n",
       "      <td id=\"T_69cad_row2_col2\" class=\"data row2 col2\" >1.000000</td>\n",
       "      <td id=\"T_69cad_row2_col3\" class=\"data row2 col3\" >0.005020</td>\n",
       "      <td id=\"T_69cad_row2_col4\" class=\"data row2 col4\" >0.567574</td>\n",
       "    </tr>\n",
       "    <tr>\n",
       "      <th id=\"T_69cad_level0_row3\" class=\"row_heading level0 row3\" >Outlet_Establishment_Year</th>\n",
       "      <td id=\"T_69cad_row3_col0\" class=\"data row3 col0\" >-0.012823</td>\n",
       "      <td id=\"T_69cad_row3_col1\" class=\"data row3 col1\" >-0.080598</td>\n",
       "      <td id=\"T_69cad_row3_col2\" class=\"data row3 col2\" >0.005020</td>\n",
       "      <td id=\"T_69cad_row3_col3\" class=\"data row3 col3\" >1.000000</td>\n",
       "      <td id=\"T_69cad_row3_col4\" class=\"data row3 col4\" >-0.049135</td>\n",
       "    </tr>\n",
       "    <tr>\n",
       "      <th id=\"T_69cad_level0_row4\" class=\"row_heading level0 row4\" >Item_Outlet_Sales</th>\n",
       "      <td id=\"T_69cad_row4_col0\" class=\"data row4 col0\" >0.013261</td>\n",
       "      <td id=\"T_69cad_row4_col1\" class=\"data row4 col1\" >-0.135247</td>\n",
       "      <td id=\"T_69cad_row4_col2\" class=\"data row4 col2\" >0.567574</td>\n",
       "      <td id=\"T_69cad_row4_col3\" class=\"data row4 col3\" >-0.049135</td>\n",
       "      <td id=\"T_69cad_row4_col4\" class=\"data row4 col4\" >1.000000</td>\n",
       "    </tr>\n",
       "  </tbody>\n",
       "</table>\n"
      ],
      "text/plain": [
       "<pandas.io.formats.style.Styler at 0x253fd684f70>"
      ]
     },
     "execution_count": 27,
     "metadata": {},
     "output_type": "execute_result"
    }
   ],
   "source": [
    "corr.style.background_gradient(cmap='coolwarm')"
   ]
  },
  {
   "cell_type": "code",
   "execution_count": 28,
   "id": "62adf8ad",
   "metadata": {},
   "outputs": [
    {
     "data": {
      "image/png": "[encoded data removed]",
      "text/plain": [
       "<Figure size 432x288 with 2 Axes>"
      ]
     },
     "metadata": {
      "needs_background": "light"
     },
     "output_type": "display_data"
    }
   ],
   "source": [
    "hm = sns.heatmap(corr, annot = True)\n",
    "plt.show()"
   ]
  },
  {
   "cell_type": "code",
   "execution_count": 29,
   "id": "515e0aca",
   "metadata": {},
   "outputs": [],
   "source": [
    "# Selecting Features having Correlation greater than 0.1\n",
    "select = []\n",
    "for i in df_scaled:\n",
    "  if abs(df_scaled[i].corr(df_scaled['Item_Outlet_Sales']))>=0.1 :\n",
    "    select.append(i)"
   ]
  },
  {
   "cell_type": "code",
   "execution_count": 30,
   "id": "0e08c205",
   "metadata": {},
   "outputs": [],
   "source": [
    "select_final=['Item_Fat_Content','Item_Type','Outlet_Identifier','Outlet_Size','Outlet_Location_Type','Outlet_Location_Type']"
   ]
  },
  {
   "cell_type": "code",
   "execution_count": 31,
   "id": "d1ce8cd5",
   "metadata": {},
   "outputs": [],
   "source": [
    "df_final1=df_scaled[select]"
   ]
  },
  {
   "cell_type": "code",
   "execution_count": 32,
   "id": "d4dd771b",
   "metadata": {},
   "outputs": [],
   "source": [
    "df_final2=df2[select_final]"
   ]
  },
  {
   "cell_type": "code",
   "execution_count": 33,
   "id": "9a817e5c",
   "metadata": {},
   "outputs": [],
   "source": [
    "model_df=pd.concat([df_final1,df_final2],axis=1,join='inner')"
   ]
  },
  {
   "cell_type": "code",
   "execution_count": 34,
   "id": "8d552d0b",
   "metadata": {},
   "outputs": [
    {
     "data": {
      "text/html": [
       "<div>\n",
       "<style scoped>\n",
       "    .dataframe tbody tr th:only-of-type {\n",
       "        vertical-align: middle;\n",
       "    }\n",
       "\n",
       "    .dataframe tbody tr th {\n",
       "        vertical-align: top;\n",
       "    }\n",
       "\n",
       "    .dataframe thead th {\n",
       "        text-align: right;\n",
       "    }\n",
       "</style>\n",
       "<table border=\"1\" class=\"dataframe\">\n",
       "  <thead>\n",
       "    <tr style=\"text-align: right;\">\n",
       "      <th></th>\n",
       "      <th>Item_Visibility</th>\n",
       "      <th>Item_MRP</th>\n",
       "      <th>Item_Outlet_Sales</th>\n",
       "      <th>Item_Fat_Content</th>\n",
       "      <th>Item_Type</th>\n",
       "      <th>Outlet_Identifier</th>\n",
       "      <th>Outlet_Size</th>\n",
       "      <th>Outlet_Location_Type</th>\n",
       "      <th>Outlet_Location_Type</th>\n",
       "    </tr>\n",
       "  </thead>\n",
       "  <tbody>\n",
       "    <tr>\n",
       "      <th>0</th>\n",
       "      <td>0.038399</td>\n",
       "      <td>0.927507</td>\n",
       "      <td>0.283587</td>\n",
       "      <td>0</td>\n",
       "      <td>4</td>\n",
       "      <td>9</td>\n",
       "      <td>1</td>\n",
       "      <td>0</td>\n",
       "      <td>0</td>\n",
       "    </tr>\n",
       "    <tr>\n",
       "      <th>1</th>\n",
       "      <td>0.048346</td>\n",
       "      <td>0.072068</td>\n",
       "      <td>0.031419</td>\n",
       "      <td>1</td>\n",
       "      <td>14</td>\n",
       "      <td>3</td>\n",
       "      <td>1</td>\n",
       "      <td>2</td>\n",
       "      <td>2</td>\n",
       "    </tr>\n",
       "    <tr>\n",
       "      <th>2</th>\n",
       "      <td>0.040593</td>\n",
       "      <td>0.468288</td>\n",
       "      <td>0.158115</td>\n",
       "      <td>0</td>\n",
       "      <td>10</td>\n",
       "      <td>9</td>\n",
       "      <td>1</td>\n",
       "      <td>0</td>\n",
       "      <td>0</td>\n",
       "    </tr>\n",
       "    <tr>\n",
       "      <th>3</th>\n",
       "      <td>0.218055</td>\n",
       "      <td>0.640093</td>\n",
       "      <td>0.053555</td>\n",
       "      <td>1</td>\n",
       "      <td>6</td>\n",
       "      <td>0</td>\n",
       "      <td>1</td>\n",
       "      <td>2</td>\n",
       "      <td>2</td>\n",
       "    </tr>\n",
       "    <tr>\n",
       "      <th>4</th>\n",
       "      <td>0.186950</td>\n",
       "      <td>0.095805</td>\n",
       "      <td>0.073651</td>\n",
       "      <td>0</td>\n",
       "      <td>9</td>\n",
       "      <td>1</td>\n",
       "      <td>0</td>\n",
       "      <td>2</td>\n",
       "      <td>2</td>\n",
       "    </tr>\n",
       "    <tr>\n",
       "      <th>...</th>\n",
       "      <td>...</td>\n",
       "      <td>...</td>\n",
       "      <td>...</td>\n",
       "      <td>...</td>\n",
       "      <td>...</td>\n",
       "      <td>...</td>\n",
       "      <td>...</td>\n",
       "      <td>...</td>\n",
       "      <td>...</td>\n",
       "    </tr>\n",
       "    <tr>\n",
       "      <th>8518</th>\n",
       "      <td>0.163812</td>\n",
       "      <td>0.777729</td>\n",
       "      <td>0.210293</td>\n",
       "      <td>0</td>\n",
       "      <td>13</td>\n",
       "      <td>1</td>\n",
       "      <td>0</td>\n",
       "      <td>2</td>\n",
       "      <td>2</td>\n",
       "    </tr>\n",
       "    <tr>\n",
       "      <th>8519</th>\n",
       "      <td>0.133638</td>\n",
       "      <td>0.326263</td>\n",
       "      <td>0.039529</td>\n",
       "      <td>1</td>\n",
       "      <td>0</td>\n",
       "      <td>7</td>\n",
       "      <td>2</td>\n",
       "      <td>1</td>\n",
       "      <td>1</td>\n",
       "    </tr>\n",
       "    <tr>\n",
       "      <th>8520</th>\n",
       "      <td>0.097321</td>\n",
       "      <td>0.228492</td>\n",
       "      <td>0.088850</td>\n",
       "      <td>0</td>\n",
       "      <td>8</td>\n",
       "      <td>6</td>\n",
       "      <td>2</td>\n",
       "      <td>1</td>\n",
       "      <td>1</td>\n",
       "    </tr>\n",
       "    <tr>\n",
       "      <th>8521</th>\n",
       "      <td>0.436080</td>\n",
       "      <td>0.304939</td>\n",
       "      <td>0.138835</td>\n",
       "      <td>1</td>\n",
       "      <td>13</td>\n",
       "      <td>3</td>\n",
       "      <td>1</td>\n",
       "      <td>2</td>\n",
       "      <td>2</td>\n",
       "    </tr>\n",
       "    <tr>\n",
       "      <th>8522</th>\n",
       "      <td>0.127160</td>\n",
       "      <td>0.187510</td>\n",
       "      <td>0.056105</td>\n",
       "      <td>0</td>\n",
       "      <td>14</td>\n",
       "      <td>8</td>\n",
       "      <td>2</td>\n",
       "      <td>0</td>\n",
       "      <td>0</td>\n",
       "    </tr>\n",
       "  </tbody>\n",
       "</table>\n",
       "<p>8523 rows × 9 columns</p>\n",
       "</div>"
      ],
      "text/plain": [
       "      Item_Visibility  Item_MRP  Item_Outlet_Sales  Item_Fat_Content  \\\n",
       "0            0.038399  0.927507           0.283587                 0   \n",
       "1            0.048346  0.072068           0.031419                 1   \n",
       "2            0.040593  0.468288           0.158115                 0   \n",
       "3            0.218055  0.640093           0.053555                 1   \n",
       "4            0.186950  0.095805           0.073651                 0   \n",
       "...               ...       ...                ...               ...   \n",
       "8518         0.163812  0.777729           0.210293                 0   \n",
       "8519         0.133638  0.326263           0.039529                 1   \n",
       "8520         0.097321  0.228492           0.088850                 0   \n",
       "8521         0.436080  0.304939           0.138835                 1   \n",
       "8522         0.127160  0.187510           0.056105                 0   \n",
       "\n",
       "      Item_Type  Outlet_Identifier  Outlet_Size  Outlet_Location_Type  \\\n",
       "0             4                  9            1                     0   \n",
       "1            14                  3            1                     2   \n",
       "2            10                  9            1                     0   \n",
       "3             6                  0            1                     2   \n",
       "4             9                  1            0                     2   \n",
       "...         ...                ...          ...                   ...   \n",
       "8518         13                  1            0                     2   \n",
       "8519          0                  7            2                     1   \n",
       "8520          8                  6            2                     1   \n",
       "8521         13                  3            1                     2   \n",
       "8522         14                  8            2                     0   \n",
       "\n",
       "      Outlet_Location_Type  \n",
       "0                        0  \n",
       "1                        2  \n",
       "2                        0  \n",
       "3                        2  \n",
       "4                        2  \n",
       "...                    ...  \n",
       "8518                     2  \n",
       "8519                     1  \n",
       "8520                     1  \n",
       "8521                     2  \n",
       "8522                     0  \n",
       "\n",
       "[8523 rows x 9 columns]"
      ]
     },
     "execution_count": 34,
     "metadata": {},
     "output_type": "execute_result"
    }
   ],
   "source": [
    "model_df"
   ]
  },
  {
   "cell_type": "markdown",
   "id": "9a366fa1",
   "metadata": {},
   "source": [
    "spliting the data into train and test"
   ]
  },
  {
   "cell_type": "code",
   "execution_count": 35,
   "id": "c5a58ab3",
   "metadata": {},
   "outputs": [],
   "source": [
    "from sklearn.model_selection import train_test_split"
   ]
  },
  {
   "cell_type": "code",
   "execution_count": 36,
   "id": "0ae657b6",
   "metadata": {},
   "outputs": [],
   "source": [
    "x=model_df.drop([\"Item_Outlet_Sales\"],axis=1)\n",
    "y=model_df[\"Item_Outlet_Sales\"]"
   ]
  },
  {
   "cell_type": "code",
   "execution_count": 37,
   "id": "bb1d192c",
   "metadata": {},
   "outputs": [],
   "source": [
    "X_train,X_test,y_train,y_test=train_test_split(x,y,test_size=0.3)"
   ]
  },
  {
   "cell_type": "code",
   "execution_count": 38,
   "id": "8f79ccaa",
   "metadata": {},
   "outputs": [
    {
     "name": "stdout",
     "output_type": "stream",
     "text": [
      "Shape of new dataframes - (5966, 8) , (2557, 8)\n"
     ]
    }
   ],
   "source": [
    "print(\"Shape of new dataframes - {} , {}\".format(X_train.shape, X_test.shape))"
   ]
  },
  {
   "cell_type": "markdown",
   "id": "071c4198",
   "metadata": {},
   "source": [
    "# linerRegression"
   ]
  },
  {
   "cell_type": "code",
   "execution_count": 39,
   "id": "ab0f3efa",
   "metadata": {},
   "outputs": [
    {
     "name": "stdout",
     "output_type": "stream",
     "text": [
      "Coefficient of determination: 0.4417440084738392\n",
      "Intercept: -0.1185382306187272\n",
      "Slope: [-6.84003810e-02  2.81590800e-01  6.12556352e-03  1.54559647e-05\n",
      "  2.00075574e-02 -8.59340251e-04  3.18297954e-02  3.18297954e-02]\n"
     ]
    }
   ],
   "source": [
    "model1 = LinearRegression().fit(X_train, y_train)\n",
    "r2=model1.score(X_train, y_train)\n",
    "\n",
    "print('Coefficient of determination:', r2)\n",
    "print('Intercept:', model1.intercept_)\n",
    "print('Slope:', model1.coef_)"
   ]
  },
  {
   "cell_type": "code",
   "execution_count": 40,
   "id": "952ae2d2",
   "metadata": {},
   "outputs": [],
   "source": [
    "pred=model1.predict(X_test)"
   ]
  },
  {
   "cell_type": "code",
   "execution_count": 41,
   "id": "e55212cd",
   "metadata": {},
   "outputs": [],
   "source": [
    "d=pd.DataFrame(pred,y_test)"
   ]
  },
  {
   "cell_type": "code",
   "execution_count": 42,
   "id": "85c1bc1d",
   "metadata": {},
   "outputs": [],
   "source": [
    "MSE = mean_squared_error(y_test,pred, squared=False)\n",
    "RMSE=np.sqrt(MSE)"
   ]
  },
  {
   "cell_type": "code",
   "execution_count": 43,
   "id": "655490d5",
   "metadata": {},
   "outputs": [
    {
     "name": "stdout",
     "output_type": "stream",
     "text": [
      "MSE OF THE MODEL IS  0.0964521652450537\n",
      "RMSE OF THE MODEL IS  0.31056748903427367\n"
     ]
    }
   ],
   "source": [
    "print(\"MSE OF THE MODEL IS \",MSE)\n",
    "print(\"RMSE OF THE MODEL IS \",RMSE)"
   ]
  },
  {
   "cell_type": "code",
   "execution_count": 67,
   "id": "18053367",
   "metadata": {},
   "outputs": [],
   "source": [
    "features=x.columns"
   ]
  },
  {
   "cell_type": "code",
   "execution_count": 68,
   "id": "405cc8cd",
   "metadata": {},
   "outputs": [
    {
     "data": {
      "text/plain": [
       "<AxesSubplot:>"
      ]
     },
     "execution_count": 68,
     "metadata": {},
     "output_type": "execute_result"
    },
    {
     "data": {
      "image/png": "[encoded data removed]",
      "text/plain": [
       "<Figure size 432x288 with 1 Axes>"
      ]
     },
     "metadata": {
      "needs_background": "light"
     },
     "output_type": "display_data"
    }
   ],
   "source": [
    "sns.barplot(model1.coef_,features)"
   ]
  },
  {
   "cell_type": "markdown",
   "id": "2c3dc6e3",
   "metadata": {},
   "source": [
    "# there are the important features for model based on the target\n",
    "* item_mrp\n",
    "* item_visibility\n",
    "* outlet_loation_type"
   ]
  },
  {
   "cell_type": "markdown",
   "id": "1c10a5cd",
   "metadata": {},
   "source": [
    "# TRYING WITH RANDOM FOREST ALGORITHM"
   ]
  },
  {
   "cell_type": "code",
   "execution_count": 44,
   "id": "fd61e208",
   "metadata": {},
   "outputs": [],
   "source": [
    "from sklearn.ensemble import RandomForestRegressor    \n",
    "from sklearn.model_selection import RepeatedStratifiedKFold\n",
    "from sklearn.model_selection import cross_val_score"
   ]
  },
  {
   "cell_type": "code",
   "execution_count": 45,
   "id": "f928d06a",
   "metadata": {},
   "outputs": [
    {
     "data": {
      "text/plain": [
       "RandomForestRegressor(n_estimators=10, random_state=1)"
      ]
     },
     "execution_count": 45,
     "metadata": {},
     "output_type": "execute_result"
    }
   ],
   "source": [
    "\n",
    "\n",
    "regressor =RandomForestRegressor(n_estimators=10, random_state=1)\n",
    "regressor.fit(X_train,y_train)"
   ]
  },
  {
   "cell_type": "code",
   "execution_count": 46,
   "id": "ef008773",
   "metadata": {},
   "outputs": [],
   "source": [
    "rf_pred=regressor.predict(X_test)"
   ]
  },
  {
   "cell_type": "code",
   "execution_count": 47,
   "id": "fdf92962",
   "metadata": {},
   "outputs": [],
   "source": [
    "rf=pd.DataFrame({\"X_test\":y_test,\"RF_pred\":rf_pred})"
   ]
  },
  {
   "cell_type": "code",
   "execution_count": 48,
   "id": "a29f9f2c",
   "metadata": {},
   "outputs": [],
   "source": [
    "MSE_rf= mean_squared_error(y_test,rf_pred, squared=False)\n",
    "rmse_rf=np.sqrt(MSE_rf)"
   ]
  },
  {
   "cell_type": "code",
   "execution_count": 49,
   "id": "4530034d",
   "metadata": {},
   "outputs": [
    {
     "name": "stdout",
     "output_type": "stream",
     "text": [
      "MSE of the random_forest 0.09165014552622823\n",
      "RMSE of the random_forest 0.3027377504148239\n"
     ]
    }
   ],
   "source": [
    "print(\"MSE of the random_forest\",MSE_rf)\n",
    "print(\"RMSE of the random_forest\",rmse_rf)"
   ]
  },
  {
   "cell_type": "markdown",
   "id": "dbd69093",
   "metadata": {},
   "source": [
    " # Using DecisionTree"
   ]
  },
  {
   "cell_type": "code",
   "execution_count": 50,
   "id": "9719a790",
   "metadata": {},
   "outputs": [
    {
     "data": {
      "text/plain": [
       "DecisionTreeRegressor(random_state=0)"
      ]
     },
     "execution_count": 50,
     "metadata": {},
     "output_type": "execute_result"
    }
   ],
   "source": [
    "from sklearn.tree import DecisionTreeRegressor \n",
    "  \n",
    "# create a regressor object\n",
    "Decision_regressor = DecisionTreeRegressor(random_state = 0) \n",
    "  \n",
    "Decision_regressor.fit(X_train, y_train)"
   ]
  },
  {
   "cell_type": "code",
   "execution_count": 51,
   "id": "03397400",
   "metadata": {},
   "outputs": [],
   "source": [
    "dt_pred = Decision_regressor.predict(X_test)"
   ]
  },
  {
   "cell_type": "code",
   "execution_count": 52,
   "id": "45558a05",
   "metadata": {},
   "outputs": [],
   "source": [
    "MSE_dt= mean_squared_error(y_test,dt_pred, squared=False)\n",
    "RMSE_dt=np.sqrt(MSE_dt)"
   ]
  },
  {
   "cell_type": "code",
   "execution_count": 53,
   "id": "21837eac",
   "metadata": {},
   "outputs": [
    {
     "name": "stdout",
     "output_type": "stream",
     "text": [
      "MSE OF DECISION TREE IS  0.12019071032184946\n",
      "RMSE OF DECISION TREE IS  0.3466853188726766\n"
     ]
    }
   ],
   "source": [
    "print(\"MSE OF DECISION TREE IS \",MSE_dt)\n",
    "print(\"RMSE OF DECISION TREE IS \",RMSE_dt)"
   ]
  },
  {
   "cell_type": "code",
   "execution_count": 54,
   "id": "71b00a49",
   "metadata": {},
   "outputs": [],
   "source": [
    "from sklearn.ensemble import AdaBoostRegressor "
   ]
  },
  {
   "cell_type": "code",
   "execution_count": 55,
   "id": "13f2967c",
   "metadata": {},
   "outputs": [
    {
     "data": {
      "text/plain": [
       "AdaBoostRegressor()"
      ]
     },
     "execution_count": 55,
     "metadata": {},
     "output_type": "execute_result"
    }
   ],
   "source": [
    "adc=AdaBoostRegressor() \n",
    "adc.fit(X_train, y_train)"
   ]
  },
  {
   "cell_type": "code",
   "execution_count": 56,
   "id": "72f5366e",
   "metadata": {},
   "outputs": [],
   "source": [
    "adc_pred = adc.predict(X_test)"
   ]
  },
  {
   "cell_type": "code",
   "execution_count": 57,
   "id": "06906729",
   "metadata": {},
   "outputs": [
    {
     "name": "stdout",
     "output_type": "stream",
     "text": [
      "MSE OF DECISION TREE IS  0.09940307036280724\n",
      "MSE OF DECISION TREE IS  0.31528252467082163\n"
     ]
    }
   ],
   "source": [
    "MSE_adc= mean_squared_error(y_test,adc_pred, squared=False)\n",
    "RMSE_adc=np.sqrt(MSE_adc)\n",
    "print(\"MSE OF DECISION TREE IS \",MSE_adc)\n",
    "print(\"MSE OF DECISION TREE IS \",RMSE_adc)"
   ]
  },
  {
   "cell_type": "code",
   "execution_count": 58,
   "id": "84ebb72e",
   "metadata": {},
   "outputs": [],
   "source": [
    "model_list=[\"linerRegression\",\"RANDOM FOREST\",\"DecisionTree\",\"AdaboostRegressor\"]\n",
    "MSE=[0.0987,0.0915,0.1240,0.1070]\n",
    "RMSE=[0.3134,0.3047,0.3475,0.3271]"
   ]
  },
  {
   "cell_type": "code",
   "execution_count": 59,
   "id": "41a58170",
   "metadata": {},
   "outputs": [
    {
     "data": {
      "text/html": [
       "<div>\n",
       "<style scoped>\n",
       "    .dataframe tbody tr th:only-of-type {\n",
       "        vertical-align: middle;\n",
       "    }\n",
       "\n",
       "    .dataframe tbody tr th {\n",
       "        vertical-align: top;\n",
       "    }\n",
       "\n",
       "    .dataframe thead th {\n",
       "        text-align: right;\n",
       "    }\n",
       "</style>\n",
       "<table border=\"1\" class=\"dataframe\">\n",
       "  <thead>\n",
       "    <tr style=\"text-align: right;\">\n",
       "      <th></th>\n",
       "      <th>model_name</th>\n",
       "      <th>MSE</th>\n",
       "      <th>RMSE</th>\n",
       "    </tr>\n",
       "  </thead>\n",
       "  <tbody>\n",
       "    <tr>\n",
       "      <th>0</th>\n",
       "      <td>linerRegression</td>\n",
       "      <td>0.0987</td>\n",
       "      <td>0.3134</td>\n",
       "    </tr>\n",
       "    <tr>\n",
       "      <th>1</th>\n",
       "      <td>RANDOM FOREST</td>\n",
       "      <td>0.0915</td>\n",
       "      <td>0.3047</td>\n",
       "    </tr>\n",
       "    <tr>\n",
       "      <th>2</th>\n",
       "      <td>DecisionTree</td>\n",
       "      <td>0.1240</td>\n",
       "      <td>0.3475</td>\n",
       "    </tr>\n",
       "    <tr>\n",
       "      <th>3</th>\n",
       "      <td>AdaboostRegressor</td>\n",
       "      <td>0.1070</td>\n",
       "      <td>0.3271</td>\n",
       "    </tr>\n",
       "  </tbody>\n",
       "</table>\n",
       "</div>"
      ],
      "text/plain": [
       "          model_name     MSE    RMSE\n",
       "0    linerRegression  0.0987  0.3134\n",
       "1      RANDOM FOREST  0.0915  0.3047\n",
       "2       DecisionTree  0.1240  0.3475\n",
       "3  AdaboostRegressor  0.1070  0.3271"
      ]
     },
     "execution_count": 59,
     "metadata": {},
     "output_type": "execute_result"
    }
   ],
   "source": [
    "pd.DataFrame({\"model_name\":model_list,\"MSE\":MSE,\"RMSE\":RMSE})"
   ]
  },
  {
   "cell_type": "markdown",
   "id": "7c845713",
   "metadata": {},
   "source": [
    "# less error from Random Forest so it  is the best model"
   ]
  },
  {
   "cell_type": "code",
   "execution_count": 60,
   "id": "b0c188e8",
   "metadata": {},
   "outputs": [],
   "source": [
    "def rev_min_max_func(scaled_val):\n",
    "    max_val = max(df['Item_Outlet_Sales'])\n",
    "    min_val = min(df['Item_Outlet_Sales'])\n",
    "    og_val = (scaled_val*(max_val - min_val)) + min_val\n",
    "    return og_val\n",
    "#df['pred_target'] = scaled_labeled_df['pred_scaled_target'].apply(lambda x: rev_min_max_func(x))"
   ]
  },
  {
   "cell_type": "code",
   "execution_count": 61,
   "id": "0f820855",
   "metadata": {},
   "outputs": [],
   "source": [
    "prddd=rev_min_max_func(rf_pred)"
   ]
  },
  {
   "cell_type": "code",
   "execution_count": 62,
   "id": "0c110e65",
   "metadata": {},
   "outputs": [],
   "source": [
    "act=rev_min_max_func(y_test)"
   ]
  },
  {
   "cell_type": "code",
   "execution_count": 63,
   "id": "bdfc2ac7",
   "metadata": {},
   "outputs": [
    {
     "data": {
      "text/html": [
       "<div>\n",
       "<style scoped>\n",
       "    .dataframe tbody tr th:only-of-type {\n",
       "        vertical-align: middle;\n",
       "    }\n",
       "\n",
       "    .dataframe tbody tr th {\n",
       "        vertical-align: top;\n",
       "    }\n",
       "\n",
       "    .dataframe thead th {\n",
       "        text-align: right;\n",
       "    }\n",
       "</style>\n",
       "<table border=\"1\" class=\"dataframe\">\n",
       "  <thead>\n",
       "    <tr style=\"text-align: right;\">\n",
       "      <th></th>\n",
       "      <th>Actual_value</th>\n",
       "      <th>model_predicted</th>\n",
       "    </tr>\n",
       "  </thead>\n",
       "  <tbody>\n",
       "    <tr>\n",
       "      <th>505</th>\n",
       "      <td>407.4696</td>\n",
       "      <td>450.41370</td>\n",
       "    </tr>\n",
       "    <tr>\n",
       "      <th>4406</th>\n",
       "      <td>421.4514</td>\n",
       "      <td>2179.69604</td>\n",
       "    </tr>\n",
       "    <tr>\n",
       "      <th>1193</th>\n",
       "      <td>1571.2880</td>\n",
       "      <td>2284.89244</td>\n",
       "    </tr>\n",
       "    <tr>\n",
       "      <th>8108</th>\n",
       "      <td>1731.0800</td>\n",
       "      <td>1829.28550</td>\n",
       "    </tr>\n",
       "    <tr>\n",
       "      <th>3657</th>\n",
       "      <td>2739.1012</td>\n",
       "      <td>2464.85818</td>\n",
       "    </tr>\n",
       "    <tr>\n",
       "      <th>...</th>\n",
       "      <td>...</td>\n",
       "      <td>...</td>\n",
       "    </tr>\n",
       "    <tr>\n",
       "      <th>978</th>\n",
       "      <td>762.3410</td>\n",
       "      <td>355.87010</td>\n",
       "    </tr>\n",
       "    <tr>\n",
       "      <th>3949</th>\n",
       "      <td>237.6906</td>\n",
       "      <td>437.49718</td>\n",
       "    </tr>\n",
       "    <tr>\n",
       "      <th>249</th>\n",
       "      <td>5259.8200</td>\n",
       "      <td>2800.28822</td>\n",
       "    </tr>\n",
       "    <tr>\n",
       "      <th>3253</th>\n",
       "      <td>1231.7300</td>\n",
       "      <td>2357.53122</td>\n",
       "    </tr>\n",
       "    <tr>\n",
       "      <th>5154</th>\n",
       "      <td>205.0664</td>\n",
       "      <td>204.73350</td>\n",
       "    </tr>\n",
       "  </tbody>\n",
       "</table>\n",
       "<p>2557 rows × 2 columns</p>\n",
       "</div>"
      ],
      "text/plain": [
       "      Actual_value  model_predicted\n",
       "505       407.4696        450.41370\n",
       "4406      421.4514       2179.69604\n",
       "1193     1571.2880       2284.89244\n",
       "8108     1731.0800       1829.28550\n",
       "3657     2739.1012       2464.85818\n",
       "...            ...              ...\n",
       "978       762.3410        355.87010\n",
       "3949      237.6906        437.49718\n",
       "249      5259.8200       2800.28822\n",
       "3253     1231.7300       2357.53122\n",
       "5154      205.0664        204.73350\n",
       "\n",
       "[2557 rows x 2 columns]"
      ]
     },
     "execution_count": 63,
     "metadata": {},
     "output_type": "execute_result"
    }
   ],
   "source": [
    "pd.DataFrame({\"Actual_value\":act,\"model_predicted\":prddd})"
   ]
  },
  {
   "cell_type": "code",
   "execution_count": 64,
   "id": "6e8f089a",
   "metadata": {},
   "outputs": [],
   "source": [
    "#df_test=pd.isnull(df[\"Item_Outlet_Sales\"]) missing values from the data we can predict this from the model also \n",
    "#test=df[df_test]"
   ]
  }
 ],
 "metadata": {
  "kernelspec": {
   "display_name": "Python 3 (ipykernel)",
   "language": "python",
   "name": "python3"
  },
  "language_info": {
   "codemirror_mode": {
    "name": "ipython",
    "version": 3
   },
   "file_extension": ".py",
   "mimetype": "text/x-python",
   "name": "python",
   "nbconvert_exporter": "python",
   "pygments_lexer": "ipython3",
   "version": "3.9.12"
  }
 },
 "nbformat": 4,
 "nbformat_minor": 5
}
