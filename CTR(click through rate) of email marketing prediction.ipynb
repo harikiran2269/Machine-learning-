{
 "cells": [
  {
   "cell_type": "markdown",
   "id": "e654b834",
   "metadata": {},
   "source": [
    "\n",
    "### Problem Statement\n",
    "\n",
    "\n",
    "Most organizations today rely on email campaigns for effective communication with users. Email communication is one of the popular ways to pitch products to users and build trustworthy relationships with them.\n",
    "\n",
    "\n",
    "Email campaigns contain different types of CTA (Call To Action). The ultimate goal of email campaigns is to maximize the Click Through Rate (CTR).\n",
    "\n",
    "\n",
    "CTR is a measure of success for email campaigns. The higher the click rate, the better your email marketing campaign is. CTR is calculated by the no. of users who clicked on at least one of the CTA divided by the total no. of users the email was delivered to.\n",
    "\n",
    "\n",
    "CTR =   No. of users who clicked on at least one of the CTA / No. of emails delivered\n",
    "\n",
    "\n",
    "CTR depends on multiple factors like design, content, personalization, etc. \n",
    "\n",
    "\n",
    "How do you design the email content effectively?\n",
    "What should your subject line look like?\n",
    "What should be the length of the email?\n",
    "Do you need images in your email template?\n",
    "\n",
    "As a part of the Data Science team, in this hackathon, you will build a smart system to predict the CTR for email campaigns and therefore identify the critical factors that will help the marketing team to maximize the CTR.\n",
    "\n",
    "### Objective:\n",
    "Your task at hand is to build a machine learning-based approach to predict the CTR of an email campaign.\n",
    "\n",
    "\n",
    "\n",
    "### About the Dataset:\n",
    "\n",
    "You are provided with the information of past email campaigns containing the email attributes like subject and body length, no. of CTA, date and time of an email, type of the audience, whether its a personalized email or not, etc and the target variable indicating the CTR of the email campaign.\n",
    "\n",
    "\n",
    "\n",
    "\n"
   ]
  },
  {
   "cell_type": "markdown",
   "id": "191e2d24",
   "metadata": {},
   "source": [
    "### Step 1 :importing reqired libraries"
   ]
  },
  {
   "cell_type": "code",
   "execution_count": 1,
   "id": "b17398a8",
   "metadata": {},
   "outputs": [],
   "source": [
    "import pandas as pd\n",
    "import numpy as np\n",
    "import warnings\n",
    "warnings.filterwarnings(\"ignore\")\n",
    "import seaborn as sns\n",
    "import matplotlib.pyplot as plt\n",
    "from sklearn.preprocessing import LabelEncoder\n",
    "from sklearn.model_selection import train_test_split\n",
    "from sklearn import metrics\n",
    "from sklearn.tree import DecisionTreeRegressor                   # for model building\n",
    "from sklearn.linear_model import LinearRegression                # for model building\n",
    "from sklearn.ensemble import RandomForestRegressor               # for model building\n",
    "from sklearn.ensemble import AdaBoostRegressor                   # for model building\n",
    "from sklearn.neighbors import KNeighborsRegressor                # for model building\n",
    "from sklearn.svm import SVR                                      # for model building\n",
    "from sklearn.ensemble import StackingRegressor \n",
    "from sklearn.model_selection import KFold                        # for cross validation \n",
    "from sklearn.model_selection import cross_val_score              # for evaluation of model\n",
    "from sklearn.model_selection import cross_val_predict            # for predicting values\n",
    "import sklearn                                                   # for checking scroing keywords\n",
    "from numpy import mean "
   ]
  },
  {
   "cell_type": "markdown",
   "id": "1935fd35",
   "metadata": {},
   "source": [
    "### Step 2: Data Inspection"
   ]
  },
  {
   "cell_type": "code",
   "execution_count": 2,
   "id": "c81b698f",
   "metadata": {},
   "outputs": [],
   "source": [
    "train=pd.read_csv(\"train_F3fUq2S.csv\")\n",
    "test=pd.read_csv(\"test_Bk2wfZ3.csv\")"
   ]
  },
  {
   "cell_type": "code",
   "execution_count": 3,
   "id": "4d612253",
   "metadata": {},
   "outputs": [
    {
     "data": {
      "text/plain": [
       "((1888, 22), (762, 21))"
      ]
     },
     "execution_count": 3,
     "metadata": {},
     "output_type": "execute_result"
    }
   ],
   "source": [
    "train.shape,test.shape"
   ]
  },
  {
   "cell_type": "code",
   "execution_count": 4,
   "id": "232382bc",
   "metadata": {},
   "outputs": [],
   "source": [
    "# We have 1888 rows and 22 columns in Train set whereas Test set has 762 rows and 21 columns."
   ]
  },
  {
   "cell_type": "markdown",
   "id": "e8a24f77",
   "metadata": {},
   "source": [
    "### Step 3: Data Cleaning"
   ]
  },
  {
   "cell_type": "code",
   "execution_count": 5,
   "id": "264b6c37",
   "metadata": {},
   "outputs": [
    {
     "data": {
      "text/plain": [
       "campaign_id           0.0\n",
       "sender                0.0\n",
       "subject_len           0.0\n",
       "body_len              0.0\n",
       "mean_paragraph_len    0.0\n",
       "day_of_week           0.0\n",
       "is_weekend            0.0\n",
       "times_of_day          0.0\n",
       "category              0.0\n",
       "product               0.0\n",
       "no_of_CTA             0.0\n",
       "mean_CTA_len          0.0\n",
       "is_image              0.0\n",
       "is_personalised       0.0\n",
       "is_quote              0.0\n",
       "is_timer              0.0\n",
       "is_emoticons          0.0\n",
       "is_discount           0.0\n",
       "is_price              0.0\n",
       "is_urgency            0.0\n",
       "target_audience       0.0\n",
       "click_rate            0.0\n",
       "dtype: float64"
      ]
     },
     "execution_count": 5,
     "metadata": {},
     "output_type": "execute_result"
    }
   ],
   "source": [
    "#ratio of null values\n",
    "train.isnull().sum()/train.shape[0] *100"
   ]
  },
  {
   "cell_type": "code",
   "execution_count": 6,
   "id": "68b08c30",
   "metadata": {},
   "outputs": [
    {
     "data": {
      "text/plain": [
       "campaign_id           0.0\n",
       "sender                0.0\n",
       "subject_len           0.0\n",
       "body_len              0.0\n",
       "mean_paragraph_len    0.0\n",
       "day_of_week           0.0\n",
       "is_weekend            0.0\n",
       "times_of_day          0.0\n",
       "category              0.0\n",
       "product               0.0\n",
       "no_of_CTA             0.0\n",
       "mean_CTA_len          0.0\n",
       "is_image              0.0\n",
       "is_personalised       0.0\n",
       "is_quote              0.0\n",
       "is_timer              0.0\n",
       "is_emoticons          0.0\n",
       "is_discount           0.0\n",
       "is_price              0.0\n",
       "is_urgency            0.0\n",
       "target_audience       0.0\n",
       "dtype: float64"
      ]
     },
     "execution_count": 6,
     "metadata": {},
     "output_type": "execute_result"
    }
   ],
   "source": [
    "#ratio of null values\n",
    "test.isnull().sum()/test.shape[0] *100"
   ]
  },
  {
   "cell_type": "code",
   "execution_count": 7,
   "id": "dc059f3c",
   "metadata": {},
   "outputs": [],
   "source": [
    "# no missing values in the both train anad test data"
   ]
  },
  {
   "cell_type": "code",
   "execution_count": 8,
   "id": "88b72232",
   "metadata": {},
   "outputs": [
    {
     "name": "stdout",
     "output_type": "stream",
     "text": [
      "Categorical Features in Test Set: 1\n",
      "Numerical Features in Test Set: 20\n"
     ]
    }
   ],
   "source": [
    "#categorical features\n",
    "categorical = test.select_dtypes(include =[np.object])\n",
    "print(\"Categorical Features in Test Set:\",categorical.shape[1])\n",
    "\n",
    "#numerical features\n",
    "numerical= test.select_dtypes(include =[np.float64,np.int64])\n",
    "print(\"Numerical Features in Test Set:\",numerical.shape[1])"
   ]
  },
  {
   "cell_type": "code",
   "execution_count": 9,
   "id": "2d3d6f1b",
   "metadata": {},
   "outputs": [
    {
     "data": {
      "text/html": [
       "<div>\n",
       "<style scoped>\n",
       "    .dataframe tbody tr th:only-of-type {\n",
       "        vertical-align: middle;\n",
       "    }\n",
       "\n",
       "    .dataframe tbody tr th {\n",
       "        vertical-align: top;\n",
       "    }\n",
       "\n",
       "    .dataframe thead th {\n",
       "        text-align: right;\n",
       "    }\n",
       "</style>\n",
       "<table border=\"1\" class=\"dataframe\">\n",
       "  <thead>\n",
       "    <tr style=\"text-align: right;\">\n",
       "      <th></th>\n",
       "      <th>campaign_id</th>\n",
       "      <th>sender</th>\n",
       "      <th>subject_len</th>\n",
       "      <th>body_len</th>\n",
       "      <th>mean_paragraph_len</th>\n",
       "      <th>day_of_week</th>\n",
       "      <th>is_weekend</th>\n",
       "      <th>times_of_day</th>\n",
       "      <th>category</th>\n",
       "      <th>product</th>\n",
       "      <th>...</th>\n",
       "      <th>is_image</th>\n",
       "      <th>is_personalised</th>\n",
       "      <th>is_quote</th>\n",
       "      <th>is_timer</th>\n",
       "      <th>is_emoticons</th>\n",
       "      <th>is_discount</th>\n",
       "      <th>is_price</th>\n",
       "      <th>is_urgency</th>\n",
       "      <th>target_audience</th>\n",
       "      <th>click_rate</th>\n",
       "    </tr>\n",
       "  </thead>\n",
       "  <tbody>\n",
       "    <tr>\n",
       "      <th>0</th>\n",
       "      <td>1</td>\n",
       "      <td>3</td>\n",
       "      <td>76</td>\n",
       "      <td>10439</td>\n",
       "      <td>39</td>\n",
       "      <td>5</td>\n",
       "      <td>1</td>\n",
       "      <td>Noon</td>\n",
       "      <td>6</td>\n",
       "      <td>26</td>\n",
       "      <td>...</td>\n",
       "      <td>0</td>\n",
       "      <td>0</td>\n",
       "      <td>0</td>\n",
       "      <td>0</td>\n",
       "      <td>0</td>\n",
       "      <td>0</td>\n",
       "      <td>0</td>\n",
       "      <td>0</td>\n",
       "      <td>14</td>\n",
       "      <td>0.103079</td>\n",
       "    </tr>\n",
       "    <tr>\n",
       "      <th>1</th>\n",
       "      <td>2</td>\n",
       "      <td>3</td>\n",
       "      <td>54</td>\n",
       "      <td>2570</td>\n",
       "      <td>256</td>\n",
       "      <td>5</td>\n",
       "      <td>1</td>\n",
       "      <td>Morning</td>\n",
       "      <td>2</td>\n",
       "      <td>11</td>\n",
       "      <td>...</td>\n",
       "      <td>0</td>\n",
       "      <td>0</td>\n",
       "      <td>0</td>\n",
       "      <td>0</td>\n",
       "      <td>0</td>\n",
       "      <td>0</td>\n",
       "      <td>0</td>\n",
       "      <td>0</td>\n",
       "      <td>10</td>\n",
       "      <td>0.700000</td>\n",
       "    </tr>\n",
       "    <tr>\n",
       "      <th>2</th>\n",
       "      <td>3</td>\n",
       "      <td>3</td>\n",
       "      <td>59</td>\n",
       "      <td>12801</td>\n",
       "      <td>16</td>\n",
       "      <td>5</td>\n",
       "      <td>1</td>\n",
       "      <td>Noon</td>\n",
       "      <td>2</td>\n",
       "      <td>11</td>\n",
       "      <td>...</td>\n",
       "      <td>1</td>\n",
       "      <td>0</td>\n",
       "      <td>1</td>\n",
       "      <td>0</td>\n",
       "      <td>0</td>\n",
       "      <td>0</td>\n",
       "      <td>0</td>\n",
       "      <td>0</td>\n",
       "      <td>16</td>\n",
       "      <td>0.002769</td>\n",
       "    </tr>\n",
       "    <tr>\n",
       "      <th>3</th>\n",
       "      <td>4</td>\n",
       "      <td>3</td>\n",
       "      <td>74</td>\n",
       "      <td>11037</td>\n",
       "      <td>30</td>\n",
       "      <td>4</td>\n",
       "      <td>0</td>\n",
       "      <td>Evening</td>\n",
       "      <td>15</td>\n",
       "      <td>9</td>\n",
       "      <td>...</td>\n",
       "      <td>0</td>\n",
       "      <td>0</td>\n",
       "      <td>0</td>\n",
       "      <td>0</td>\n",
       "      <td>0</td>\n",
       "      <td>0</td>\n",
       "      <td>0</td>\n",
       "      <td>0</td>\n",
       "      <td>10</td>\n",
       "      <td>0.010868</td>\n",
       "    </tr>\n",
       "    <tr>\n",
       "      <th>4</th>\n",
       "      <td>5</td>\n",
       "      <td>3</td>\n",
       "      <td>80</td>\n",
       "      <td>10011</td>\n",
       "      <td>27</td>\n",
       "      <td>5</td>\n",
       "      <td>1</td>\n",
       "      <td>Noon</td>\n",
       "      <td>6</td>\n",
       "      <td>26</td>\n",
       "      <td>...</td>\n",
       "      <td>0</td>\n",
       "      <td>0</td>\n",
       "      <td>1</td>\n",
       "      <td>0</td>\n",
       "      <td>0</td>\n",
       "      <td>0</td>\n",
       "      <td>0</td>\n",
       "      <td>0</td>\n",
       "      <td>14</td>\n",
       "      <td>0.142826</td>\n",
       "    </tr>\n",
       "    <tr>\n",
       "      <th>...</th>\n",
       "      <td>...</td>\n",
       "      <td>...</td>\n",
       "      <td>...</td>\n",
       "      <td>...</td>\n",
       "      <td>...</td>\n",
       "      <td>...</td>\n",
       "      <td>...</td>\n",
       "      <td>...</td>\n",
       "      <td>...</td>\n",
       "      <td>...</td>\n",
       "      <td>...</td>\n",
       "      <td>...</td>\n",
       "      <td>...</td>\n",
       "      <td>...</td>\n",
       "      <td>...</td>\n",
       "      <td>...</td>\n",
       "      <td>...</td>\n",
       "      <td>...</td>\n",
       "      <td>...</td>\n",
       "      <td>...</td>\n",
       "      <td>...</td>\n",
       "    </tr>\n",
       "    <tr>\n",
       "      <th>1883</th>\n",
       "      <td>1884</td>\n",
       "      <td>3</td>\n",
       "      <td>88</td>\n",
       "      <td>1451</td>\n",
       "      <td>75</td>\n",
       "      <td>2</td>\n",
       "      <td>0</td>\n",
       "      <td>Noon</td>\n",
       "      <td>2</td>\n",
       "      <td>11</td>\n",
       "      <td>...</td>\n",
       "      <td>0</td>\n",
       "      <td>0</td>\n",
       "      <td>1</td>\n",
       "      <td>0</td>\n",
       "      <td>0</td>\n",
       "      <td>0</td>\n",
       "      <td>0</td>\n",
       "      <td>0</td>\n",
       "      <td>10</td>\n",
       "      <td>0.350746</td>\n",
       "    </tr>\n",
       "    <tr>\n",
       "      <th>1884</th>\n",
       "      <td>1885</td>\n",
       "      <td>3</td>\n",
       "      <td>58</td>\n",
       "      <td>10537</td>\n",
       "      <td>40</td>\n",
       "      <td>2</td>\n",
       "      <td>0</td>\n",
       "      <td>Evening</td>\n",
       "      <td>2</td>\n",
       "      <td>11</td>\n",
       "      <td>...</td>\n",
       "      <td>0</td>\n",
       "      <td>0</td>\n",
       "      <td>0</td>\n",
       "      <td>0</td>\n",
       "      <td>0</td>\n",
       "      <td>0</td>\n",
       "      <td>0</td>\n",
       "      <td>0</td>\n",
       "      <td>11</td>\n",
       "      <td>0.004728</td>\n",
       "    </tr>\n",
       "    <tr>\n",
       "      <th>1885</th>\n",
       "      <td>1886</td>\n",
       "      <td>3</td>\n",
       "      <td>89</td>\n",
       "      <td>11050</td>\n",
       "      <td>26</td>\n",
       "      <td>1</td>\n",
       "      <td>0</td>\n",
       "      <td>Evening</td>\n",
       "      <td>15</td>\n",
       "      <td>9</td>\n",
       "      <td>...</td>\n",
       "      <td>0</td>\n",
       "      <td>0</td>\n",
       "      <td>0</td>\n",
       "      <td>0</td>\n",
       "      <td>0</td>\n",
       "      <td>0</td>\n",
       "      <td>0</td>\n",
       "      <td>0</td>\n",
       "      <td>6</td>\n",
       "      <td>0.008289</td>\n",
       "    </tr>\n",
       "    <tr>\n",
       "      <th>1886</th>\n",
       "      <td>1887</td>\n",
       "      <td>3</td>\n",
       "      <td>58</td>\n",
       "      <td>10537</td>\n",
       "      <td>40</td>\n",
       "      <td>1</td>\n",
       "      <td>0</td>\n",
       "      <td>Evening</td>\n",
       "      <td>2</td>\n",
       "      <td>11</td>\n",
       "      <td>...</td>\n",
       "      <td>0</td>\n",
       "      <td>0</td>\n",
       "      <td>0</td>\n",
       "      <td>0</td>\n",
       "      <td>0</td>\n",
       "      <td>0</td>\n",
       "      <td>0</td>\n",
       "      <td>0</td>\n",
       "      <td>16</td>\n",
       "      <td>0.012014</td>\n",
       "    </tr>\n",
       "    <tr>\n",
       "      <th>1887</th>\n",
       "      <td>1888</td>\n",
       "      <td>3</td>\n",
       "      <td>89</td>\n",
       "      <td>11050</td>\n",
       "      <td>26</td>\n",
       "      <td>0</td>\n",
       "      <td>0</td>\n",
       "      <td>Evening</td>\n",
       "      <td>15</td>\n",
       "      <td>9</td>\n",
       "      <td>...</td>\n",
       "      <td>0</td>\n",
       "      <td>0</td>\n",
       "      <td>0</td>\n",
       "      <td>0</td>\n",
       "      <td>0</td>\n",
       "      <td>0</td>\n",
       "      <td>0</td>\n",
       "      <td>0</td>\n",
       "      <td>10</td>\n",
       "      <td>0.003644</td>\n",
       "    </tr>\n",
       "  </tbody>\n",
       "</table>\n",
       "<p>1888 rows × 22 columns</p>\n",
       "</div>"
      ],
      "text/plain": [
       "      campaign_id  sender  subject_len  body_len  mean_paragraph_len  \\\n",
       "0               1       3           76     10439                  39   \n",
       "1               2       3           54      2570                 256   \n",
       "2               3       3           59     12801                  16   \n",
       "3               4       3           74     11037                  30   \n",
       "4               5       3           80     10011                  27   \n",
       "...           ...     ...          ...       ...                 ...   \n",
       "1883         1884       3           88      1451                  75   \n",
       "1884         1885       3           58     10537                  40   \n",
       "1885         1886       3           89     11050                  26   \n",
       "1886         1887       3           58     10537                  40   \n",
       "1887         1888       3           89     11050                  26   \n",
       "\n",
       "      day_of_week  is_weekend times_of_day  category  product  ...  is_image  \\\n",
       "0               5           1         Noon         6       26  ...         0   \n",
       "1               5           1      Morning         2       11  ...         0   \n",
       "2               5           1         Noon         2       11  ...         1   \n",
       "3               4           0      Evening        15        9  ...         0   \n",
       "4               5           1         Noon         6       26  ...         0   \n",
       "...           ...         ...          ...       ...      ...  ...       ...   \n",
       "1883            2           0         Noon         2       11  ...         0   \n",
       "1884            2           0      Evening         2       11  ...         0   \n",
       "1885            1           0      Evening        15        9  ...         0   \n",
       "1886            1           0      Evening         2       11  ...         0   \n",
       "1887            0           0      Evening        15        9  ...         0   \n",
       "\n",
       "      is_personalised  is_quote  is_timer  is_emoticons  is_discount  \\\n",
       "0                   0         0         0             0            0   \n",
       "1                   0         0         0             0            0   \n",
       "2                   0         1         0             0            0   \n",
       "3                   0         0         0             0            0   \n",
       "4                   0         1         0             0            0   \n",
       "...               ...       ...       ...           ...          ...   \n",
       "1883                0         1         0             0            0   \n",
       "1884                0         0         0             0            0   \n",
       "1885                0         0         0             0            0   \n",
       "1886                0         0         0             0            0   \n",
       "1887                0         0         0             0            0   \n",
       "\n",
       "      is_price  is_urgency  target_audience  click_rate  \n",
       "0            0           0               14    0.103079  \n",
       "1            0           0               10    0.700000  \n",
       "2            0           0               16    0.002769  \n",
       "3            0           0               10    0.010868  \n",
       "4            0           0               14    0.142826  \n",
       "...        ...         ...              ...         ...  \n",
       "1883         0           0               10    0.350746  \n",
       "1884         0           0               11    0.004728  \n",
       "1885         0           0                6    0.008289  \n",
       "1886         0           0               16    0.012014  \n",
       "1887         0           0               10    0.003644  \n",
       "\n",
       "[1888 rows x 22 columns]"
      ]
     },
     "execution_count": 9,
     "metadata": {},
     "output_type": "execute_result"
    }
   ],
   "source": [
    "train"
   ]
  },
  {
   "cell_type": "markdown",
   "id": "e08a887c",
   "metadata": {},
   "source": [
    "### Step 4: Exploratory Data Analysis"
   ]
  },
  {
   "cell_type": "code",
   "execution_count": 10,
   "id": "e975e785",
   "metadata": {},
   "outputs": [
    {
     "data": {
      "text/plain": [
       "<AxesSubplot:xlabel='times_of_day', ylabel='click_rate'>"
      ]
     },
     "execution_count": 10,
     "metadata": {},
     "output_type": "execute_result"
    },
    {
     "data": {
      "image/png": "[encoded data removed]",
      "text/plain": [
       "<Figure size 720x576 with 1 Axes>"
      ]
     },
     "metadata": {
      "needs_background": "light"
     },
     "output_type": "display_data"
    }
   ],
   "source": [
    "plt.figure(figsize=(10,8))\n",
    "sns.barplot(y='click_rate',x='times_of_day',data=train,palette='flag')"
   ]
  },
  {
   "cell_type": "markdown",
   "id": "1e7cd215",
   "metadata": {},
   "source": [
    "# Click_rate is high in morning time"
   ]
  },
  {
   "cell_type": "markdown",
   "id": "5e1f93fc",
   "metadata": {},
   "source": [
    "### step 5:buliding the model"
   ]
  },
  {
   "cell_type": "code",
   "execution_count": 11,
   "id": "299768d3",
   "metadata": {},
   "outputs": [],
   "source": [
    "le = LabelEncoder()\n",
    "var_mod = train.select_dtypes(include='object').columns\n",
    "for i in var_mod:\n",
    "    train[i] = le.fit_transform(train[i])\n",
    "    \n",
    "for i in var_mod:\n",
    "    test[i] = le.fit_transform(test[i])"
   ]
  },
  {
   "cell_type": "code",
   "execution_count": 12,
   "id": "765b7555",
   "metadata": {},
   "outputs": [
    {
     "data": {
      "text/plain": [
       "campaign_id             int64\n",
       "sender                  int64\n",
       "subject_len             int64\n",
       "body_len                int64\n",
       "mean_paragraph_len      int64\n",
       "day_of_week             int64\n",
       "is_weekend              int64\n",
       "times_of_day            int32\n",
       "category                int64\n",
       "product                 int64\n",
       "no_of_CTA               int64\n",
       "mean_CTA_len            int64\n",
       "is_image                int64\n",
       "is_personalised         int64\n",
       "is_quote                int64\n",
       "is_timer                int64\n",
       "is_emoticons            int64\n",
       "is_discount             int64\n",
       "is_price                int64\n",
       "is_urgency              int64\n",
       "target_audience         int64\n",
       "click_rate            float64\n",
       "dtype: object"
      ]
     },
     "execution_count": 12,
     "metadata": {},
     "output_type": "execute_result"
    }
   ],
   "source": [
    "train.dtypes"
   ]
  },
  {
   "cell_type": "code",
   "execution_count": 13,
   "id": "6a2d7191",
   "metadata": {},
   "outputs": [],
   "source": [
    "# Seperate Features and Target\n",
    "X= train.drop(columns = ['click_rate'], axis=1)\n",
    "Y= train['click_rate']"
   ]
  },
  {
   "cell_type": "code",
   "execution_count": 14,
   "id": "7028ee69",
   "metadata": {},
   "outputs": [],
   "source": [
    "\n",
    "# creating list\n",
    "R2_Score, Mean_Squared_Error, Root_Mean_Squared_Error, Mean_Absolute_Error= list(), list(), list(), list()\n",
    "\n",
    "# creating function to build model and to evaluate it\n",
    "def MODEL(model, X, Y):\n",
    "    cv = KFold(n_splits=10, shuffle=False, random_state=None)\n",
    "    r2 = cross_val_score(model, X, Y, scoring='r2', cv=cv, n_jobs=-1, error_score='raise')\n",
    "    mse = cross_val_score(model, X, Y, scoring='neg_mean_squared_error', cv=cv, n_jobs=-1, error_score='raise')\n",
    "    rmse = cross_val_score(model, X, Y, scoring='neg_root_mean_squared_error', cv=cv, n_jobs=-1, error_score='raise')\n",
    "    mae = cross_val_score(model, X, Y, scoring='neg_mean_absolute_error', cv=cv, n_jobs=-1, error_score='raise')\n",
    "    \n",
    "    R2_Score.append(r2)\n",
    "    Mean_Squared_Error.append(mse)\n",
    "    Root_Mean_Squared_Error.append(rmse)\n",
    "    Mean_Absolute_Error.append(mae)\n",
    "    \n",
    "    print('R2-Score: {} %'.format(abs(round((mean(r2)*100),2))))\n",
    "    print('Mean Squared Error: {} %'.format(abs(round((mean(mse)*100),2))))\n",
    "    print('Root Mean Squared Error: {} %'.format(abs(round((mean(rmse)*100),2))))\n",
    "    print('Mean Absolute Error: {} %'.format(abs(round((mean(mae)*100),2))))"
   ]
  },
  {
   "cell_type": "markdown",
   "id": "ffb911c0",
   "metadata": {},
   "source": [
    "### Model_1_LinearRegression()"
   ]
  },
  {
   "cell_type": "code",
   "execution_count": 15,
   "id": "cac51c6f",
   "metadata": {},
   "outputs": [
    {
     "name": "stdout",
     "output_type": "stream",
     "text": [
      "R2-Score: 0.42 %\n",
      "Mean Squared Error: 0.65 %\n",
      "Root Mean Squared Error: 7.77 %\n",
      "Mean Absolute Error: 4.7 %\n"
     ]
    }
   ],
   "source": [
    "MODEL(LinearRegression(), X, Y)"
   ]
  },
  {
   "cell_type": "markdown",
   "id": "605f81f7",
   "metadata": {},
   "source": [
    "### Model_2_DecisionTreeRegressor"
   ]
  },
  {
   "cell_type": "code",
   "execution_count": 16,
   "id": "05bc74b0",
   "metadata": {},
   "outputs": [
    {
     "name": "stdout",
     "output_type": "stream",
     "text": [
      "R2-Score: 92.45 %\n",
      "Mean Squared Error: 1.04 %\n",
      "Root Mean Squared Error: 10.11 %\n",
      "Mean Absolute Error: 4.76 %\n"
     ]
    }
   ],
   "source": [
    "MODEL(DecisionTreeRegressor(), X, Y)"
   ]
  },
  {
   "cell_type": "markdown",
   "id": "8897177a",
   "metadata": {},
   "source": [
    "### Model_3_RandomForestRegressor"
   ]
  },
  {
   "cell_type": "code",
   "execution_count": 17,
   "id": "49b0d552",
   "metadata": {},
   "outputs": [
    {
     "name": "stdout",
     "output_type": "stream",
     "text": [
      "R2-Score: 15.08 %\n",
      "Mean Squared Error: 0.53 %\n",
      "Root Mean Squared Error: 7.01 %\n",
      "Mean Absolute Error: 3.84 %\n"
     ]
    }
   ],
   "source": [
    "MODEL(RandomForestRegressor(), X, Y)"
   ]
  },
  {
   "cell_type": "markdown",
   "id": "a14807ec",
   "metadata": {},
   "source": [
    "### Model_4_AdaBoostRegressor()"
   ]
  },
  {
   "cell_type": "code",
   "execution_count": 18,
   "id": "8211c52e",
   "metadata": {},
   "outputs": [
    {
     "name": "stdout",
     "output_type": "stream",
     "text": [
      "R2-Score: 58.6 %\n",
      "Mean Squared Error: 0.93 %\n",
      "Root Mean Squared Error: 8.83 %\n",
      "Mean Absolute Error: 8.01 %\n"
     ]
    }
   ],
   "source": [
    "MODEL(AdaBoostRegressor(), X, Y)"
   ]
  },
  {
   "cell_type": "code",
   "execution_count": 19,
   "id": "622d1fc1",
   "metadata": {},
   "outputs": [
    {
     "data": {
      "image/png": "[encoded data removed]",
      "text/plain": [
       "<Figure size 1224x1296 with 4 Axes>"
      ]
     },
     "metadata": {
      "needs_background": "light"
     },
     "output_type": "display_data"
    }
   ],
   "source": [
    "# creating list to help in visualization of model evaluation score\n",
    "names=['Linear Regression','Decision Tree','Random Forest','Adaptive boosting']\n",
    "results = [R2_Score, Mean_Squared_Error, Root_Mean_Squared_Error, Mean_Absolute_Error]\n",
    "scores=['R2 Score','Mean Squared Error','Root Mean Squared Error','Mean Absolute Error']\n",
    "\n",
    "# visualizing count of data of all categorical features \n",
    "fig,ax = plt.subplots(figsize=(17,18))\n",
    "c=1\n",
    "for i in range(len(results)):\n",
    "    plt.subplot(2,2,c)\n",
    "    plt.boxplot(results[i], labels=names, showmeans=True)\n",
    "    plt.xlabel('Models', fontsize = 15)\n",
    "    plt.ylabel(scores[i], fontsize = 15)\n",
    "    plt.title(scores[i], fontsize = 18)\n",
    "    plt.xticks(fontsize = 12, rotation=10)\n",
    "    plt.yticks(fontsize = 12)\n",
    "    c+=1"
   ]
  },
  {
   "cell_type": "markdown",
   "id": "6f23b633",
   "metadata": {},
   "source": [
    "# R2 score is  high for decision_treee go using it for the prediction."
   ]
  },
  {
   "cell_type": "code",
   "execution_count": 20,
   "id": "0f602424",
   "metadata": {},
   "outputs": [],
   "source": [
    "model =DecisionTreeRegressor()\n",
    "model.fit(X, Y)\n",
    "final_predictions = model.predict(test)\n",
    "submission=pd.DataFrame()\n",
    "submission['campaign_id'] =test.campaign_id\n",
    "submission['click_rate'] = final_predictions\n",
    "submission.to_csv('my_submission2.csv', index=False)"
   ]
  },
  {
   "cell_type": "code",
   "execution_count": 21,
   "id": "5217b423",
   "metadata": {},
   "outputs": [
    {
     "data": {
      "text/html": [
       "<div>\n",
       "<style scoped>\n",
       "    .dataframe tbody tr th:only-of-type {\n",
       "        vertical-align: middle;\n",
       "    }\n",
       "\n",
       "    .dataframe tbody tr th {\n",
       "        vertical-align: top;\n",
       "    }\n",
       "\n",
       "    .dataframe thead th {\n",
       "        text-align: right;\n",
       "    }\n",
       "</style>\n",
       "<table border=\"1\" class=\"dataframe\">\n",
       "  <thead>\n",
       "    <tr style=\"text-align: right;\">\n",
       "      <th></th>\n",
       "      <th>campaign_id</th>\n",
       "      <th>click_rate</th>\n",
       "    </tr>\n",
       "  </thead>\n",
       "  <tbody>\n",
       "    <tr>\n",
       "      <th>0</th>\n",
       "      <td>1889</td>\n",
       "      <td>0.030680</td>\n",
       "    </tr>\n",
       "    <tr>\n",
       "      <th>1</th>\n",
       "      <td>1890</td>\n",
       "      <td>0.131313</td>\n",
       "    </tr>\n",
       "    <tr>\n",
       "      <th>2</th>\n",
       "      <td>1891</td>\n",
       "      <td>0.350746</td>\n",
       "    </tr>\n",
       "    <tr>\n",
       "      <th>3</th>\n",
       "      <td>1892</td>\n",
       "      <td>0.350746</td>\n",
       "    </tr>\n",
       "    <tr>\n",
       "      <th>4</th>\n",
       "      <td>1893</td>\n",
       "      <td>0.048611</td>\n",
       "    </tr>\n",
       "  </tbody>\n",
       "</table>\n",
       "</div>"
      ],
      "text/plain": [
       "   campaign_id  click_rate\n",
       "0         1889    0.030680\n",
       "1         1890    0.131313\n",
       "2         1891    0.350746\n",
       "3         1892    0.350746\n",
       "4         1893    0.048611"
      ]
     },
     "execution_count": 21,
     "metadata": {},
     "output_type": "execute_result"
    }
   ],
   "source": [
    "submission.head()"
   ]
  },
  {
   "cell_type": "code",
   "execution_count": null,
   "id": "62959b08",
   "metadata": {},
   "outputs": [],
   "source": []
  }
 ],
 "metadata": {
  "kernelspec": {
   "display_name": "Python 3 (ipykernel)",
   "language": "python",
   "name": "python3"
  },
  "language_info": {
   "codemirror_mode": {
    "name": "ipython",
    "version": 3
   },
   "file_extension": ".py",
   "mimetype": "text/x-python",
   "name": "python",
   "nbconvert_exporter": "python",
   "pygments_lexer": "ipython3",
   "version": "3.9.12"
  }
 },
 "nbformat": 4,
 "nbformat_minor": 5
}
